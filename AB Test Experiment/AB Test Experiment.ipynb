{
 "cells": [
  {
   "cell_type": "markdown",
   "id": "2656e3f4-d033-4b6f-8bda-5ec74b98b1e3",
   "metadata": {},
   "source": [
    "#\n",
    "\n",
    "This notebook documents an A/B testing workflow conducted for StyleSync, a fashion retailer helping customers shop online after in-store style consultations. The experiment tested whether simplifying the website checkout experience (by removing the “Similar Items” carousel) would lead to increased revenue. Following data validation, experiment reruns, and statistical analysis, we assessed both statistical and practical significance to guide a final launch decision. The analysis concludes with a comparison of Customer Lifetime Value (CLV) before and after the test to quantify long-term business impact.\n",
    "\n",
    "1. Imports\n",
    "2. Initial A/B Test Experiment\n",
    "3. Validating Check\n",
    "4. Re-Run Experiment\n",
    "5. Interpret Results\n",
    "6. Launch Decsion\n",
    "7. Customer Lifetime Value (CLV) - Before vs After A/B Test"
   ]
  },
  {
   "cell_type": "markdown",
   "id": "e9284da0-6d12-4231-a4b5-05aa2eaf63aa",
   "metadata": {},
   "source": [
    "# 1. Import"
   ]
  },
  {
   "cell_type": "code",
   "execution_count": 20,
   "id": "4523fcb8-7ca6-4b61-a964-75e59a3e4347",
   "metadata": {},
   "outputs": [],
   "source": [
    "import pandas as pd\n",
    "import matplotlib.pyplot as plt\n",
    "import seaborn as sns\n",
    "from scipy import stats\n",
    "import numpy as np"
   ]
  },
  {
   "cell_type": "code",
   "execution_count": 4,
   "id": "ef4ab861-856d-4971-a194-b3d745597ef6",
   "metadata": {},
   "outputs": [],
   "source": [
    "df = pd.read_csv(r'C:\\Users\\Ellen\\Desktop\\Documents\\Part-Time work\\Projects\\Linear Regression\\Dataset\\Ecommerce Customers')"
   ]
  },
  {
   "cell_type": "code",
   "execution_count": 7,
   "id": "3468e58a-1237-4be6-b0c7-97ec5c582164",
   "metadata": {},
   "outputs": [
    {
     "data": {
      "text/html": [
       "<div>\n",
       "<style scoped>\n",
       "    .dataframe tbody tr th:only-of-type {\n",
       "        vertical-align: middle;\n",
       "    }\n",
       "\n",
       "    .dataframe tbody tr th {\n",
       "        vertical-align: top;\n",
       "    }\n",
       "\n",
       "    .dataframe thead th {\n",
       "        text-align: right;\n",
       "    }\n",
       "</style>\n",
       "<table border=\"1\" class=\"dataframe\">\n",
       "  <thead>\n",
       "    <tr style=\"text-align: right;\">\n",
       "      <th></th>\n",
       "      <th>Email</th>\n",
       "      <th>Address</th>\n",
       "      <th>Avatar</th>\n",
       "      <th>Avg. Session Length</th>\n",
       "      <th>Time on App</th>\n",
       "      <th>Time on Website</th>\n",
       "      <th>Length of Membership</th>\n",
       "      <th>Yearly Amount Spent</th>\n",
       "    </tr>\n",
       "  </thead>\n",
       "  <tbody>\n",
       "    <tr>\n",
       "      <th>0</th>\n",
       "      <td>mstephenson@fernandez.com</td>\n",
       "      <td>835 Frank Tunnel\\nWrightmouth, MI 82180-9605</td>\n",
       "      <td>Violet</td>\n",
       "      <td>34.497268</td>\n",
       "      <td>12.655651</td>\n",
       "      <td>39.577668</td>\n",
       "      <td>4.082621</td>\n",
       "      <td>587.951054</td>\n",
       "    </tr>\n",
       "    <tr>\n",
       "      <th>1</th>\n",
       "      <td>hduke@hotmail.com</td>\n",
       "      <td>4547 Archer Common\\nDiazchester, CA 06566-8576</td>\n",
       "      <td>DarkGreen</td>\n",
       "      <td>31.926272</td>\n",
       "      <td>11.109461</td>\n",
       "      <td>37.268959</td>\n",
       "      <td>2.664034</td>\n",
       "      <td>392.204933</td>\n",
       "    </tr>\n",
       "    <tr>\n",
       "      <th>2</th>\n",
       "      <td>pallen@yahoo.com</td>\n",
       "      <td>24645 Valerie Unions Suite 582\\nCobbborough, D...</td>\n",
       "      <td>Bisque</td>\n",
       "      <td>33.000915</td>\n",
       "      <td>11.330278</td>\n",
       "      <td>37.110597</td>\n",
       "      <td>4.104543</td>\n",
       "      <td>487.547505</td>\n",
       "    </tr>\n",
       "    <tr>\n",
       "      <th>3</th>\n",
       "      <td>riverarebecca@gmail.com</td>\n",
       "      <td>1414 David Throughway\\nPort Jason, OH 22070-1220</td>\n",
       "      <td>SaddleBrown</td>\n",
       "      <td>34.305557</td>\n",
       "      <td>13.717514</td>\n",
       "      <td>36.721283</td>\n",
       "      <td>3.120179</td>\n",
       "      <td>581.852344</td>\n",
       "    </tr>\n",
       "    <tr>\n",
       "      <th>4</th>\n",
       "      <td>mstephens@davidson-herman.com</td>\n",
       "      <td>14023 Rodriguez Passage\\nPort Jacobville, PR 3...</td>\n",
       "      <td>MediumAquaMarine</td>\n",
       "      <td>33.330673</td>\n",
       "      <td>12.795189</td>\n",
       "      <td>37.536653</td>\n",
       "      <td>4.446308</td>\n",
       "      <td>599.406092</td>\n",
       "    </tr>\n",
       "  </tbody>\n",
       "</table>\n",
       "</div>"
      ],
      "text/plain": [
       "                           Email  \\\n",
       "0      mstephenson@fernandez.com   \n",
       "1              hduke@hotmail.com   \n",
       "2               pallen@yahoo.com   \n",
       "3        riverarebecca@gmail.com   \n",
       "4  mstephens@davidson-herman.com   \n",
       "\n",
       "                                             Address            Avatar  \\\n",
       "0       835 Frank Tunnel\\nWrightmouth, MI 82180-9605            Violet   \n",
       "1     4547 Archer Common\\nDiazchester, CA 06566-8576         DarkGreen   \n",
       "2  24645 Valerie Unions Suite 582\\nCobbborough, D...            Bisque   \n",
       "3   1414 David Throughway\\nPort Jason, OH 22070-1220       SaddleBrown   \n",
       "4  14023 Rodriguez Passage\\nPort Jacobville, PR 3...  MediumAquaMarine   \n",
       "\n",
       "   Avg. Session Length  Time on App  Time on Website  Length of Membership  \\\n",
       "0            34.497268    12.655651        39.577668              4.082621   \n",
       "1            31.926272    11.109461        37.268959              2.664034   \n",
       "2            33.000915    11.330278        37.110597              4.104543   \n",
       "3            34.305557    13.717514        36.721283              3.120179   \n",
       "4            33.330673    12.795189        37.536653              4.446308   \n",
       "\n",
       "   Yearly Amount Spent  \n",
       "0           587.951054  \n",
       "1           392.204933  \n",
       "2           487.547505  \n",
       "3           581.852344  \n",
       "4           599.406092  "
      ]
     },
     "execution_count": 7,
     "metadata": {},
     "output_type": "execute_result"
    }
   ],
   "source": [
    "df.head()"
   ]
  },
  {
   "cell_type": "code",
   "execution_count": 9,
   "id": "cc0d16a4-b835-499c-ae65-24665056ad36",
   "metadata": {},
   "outputs": [
    {
     "name": "stdout",
     "output_type": "stream",
     "text": [
      "<class 'pandas.core.frame.DataFrame'>\n",
      "RangeIndex: 500 entries, 0 to 499\n",
      "Data columns (total 8 columns):\n",
      " #   Column                Non-Null Count  Dtype  \n",
      "---  ------                --------------  -----  \n",
      " 0   Email                 500 non-null    object \n",
      " 1   Address               500 non-null    object \n",
      " 2   Avatar                500 non-null    object \n",
      " 3   Avg. Session Length   500 non-null    float64\n",
      " 4   Time on App           500 non-null    float64\n",
      " 5   Time on Website       500 non-null    float64\n",
      " 6   Length of Membership  500 non-null    float64\n",
      " 7   Yearly Amount Spent   500 non-null    float64\n",
      "dtypes: float64(5), object(3)\n",
      "memory usage: 31.4+ KB\n"
     ]
    }
   ],
   "source": [
    "df.info()"
   ]
  },
  {
   "cell_type": "code",
   "execution_count": 11,
   "id": "eb874f7a-3fd5-498f-b2bc-f61d1c38898c",
   "metadata": {},
   "outputs": [
    {
     "data": {
      "text/html": [
       "<div>\n",
       "<style scoped>\n",
       "    .dataframe tbody tr th:only-of-type {\n",
       "        vertical-align: middle;\n",
       "    }\n",
       "\n",
       "    .dataframe tbody tr th {\n",
       "        vertical-align: top;\n",
       "    }\n",
       "\n",
       "    .dataframe thead th {\n",
       "        text-align: right;\n",
       "    }\n",
       "</style>\n",
       "<table border=\"1\" class=\"dataframe\">\n",
       "  <thead>\n",
       "    <tr style=\"text-align: right;\">\n",
       "      <th></th>\n",
       "      <th>Avg. Session Length</th>\n",
       "      <th>Time on App</th>\n",
       "      <th>Time on Website</th>\n",
       "      <th>Length of Membership</th>\n",
       "      <th>Yearly Amount Spent</th>\n",
       "    </tr>\n",
       "  </thead>\n",
       "  <tbody>\n",
       "    <tr>\n",
       "      <th>count</th>\n",
       "      <td>500.000000</td>\n",
       "      <td>500.000000</td>\n",
       "      <td>500.000000</td>\n",
       "      <td>500.000000</td>\n",
       "      <td>500.000000</td>\n",
       "    </tr>\n",
       "    <tr>\n",
       "      <th>mean</th>\n",
       "      <td>33.053194</td>\n",
       "      <td>12.052488</td>\n",
       "      <td>37.060445</td>\n",
       "      <td>3.533462</td>\n",
       "      <td>499.314038</td>\n",
       "    </tr>\n",
       "    <tr>\n",
       "      <th>std</th>\n",
       "      <td>0.992563</td>\n",
       "      <td>0.994216</td>\n",
       "      <td>1.010489</td>\n",
       "      <td>0.999278</td>\n",
       "      <td>79.314782</td>\n",
       "    </tr>\n",
       "    <tr>\n",
       "      <th>min</th>\n",
       "      <td>29.532429</td>\n",
       "      <td>8.508152</td>\n",
       "      <td>33.913847</td>\n",
       "      <td>0.269901</td>\n",
       "      <td>256.670582</td>\n",
       "    </tr>\n",
       "    <tr>\n",
       "      <th>25%</th>\n",
       "      <td>32.341822</td>\n",
       "      <td>11.388153</td>\n",
       "      <td>36.349257</td>\n",
       "      <td>2.930450</td>\n",
       "      <td>445.038277</td>\n",
       "    </tr>\n",
       "    <tr>\n",
       "      <th>50%</th>\n",
       "      <td>33.082008</td>\n",
       "      <td>11.983231</td>\n",
       "      <td>37.069367</td>\n",
       "      <td>3.533975</td>\n",
       "      <td>498.887875</td>\n",
       "    </tr>\n",
       "    <tr>\n",
       "      <th>75%</th>\n",
       "      <td>33.711985</td>\n",
       "      <td>12.753850</td>\n",
       "      <td>37.716432</td>\n",
       "      <td>4.126502</td>\n",
       "      <td>549.313828</td>\n",
       "    </tr>\n",
       "    <tr>\n",
       "      <th>max</th>\n",
       "      <td>36.139662</td>\n",
       "      <td>15.126994</td>\n",
       "      <td>40.005182</td>\n",
       "      <td>6.922689</td>\n",
       "      <td>765.518462</td>\n",
       "    </tr>\n",
       "  </tbody>\n",
       "</table>\n",
       "</div>"
      ],
      "text/plain": [
       "       Avg. Session Length  Time on App  Time on Website  \\\n",
       "count           500.000000   500.000000       500.000000   \n",
       "mean             33.053194    12.052488        37.060445   \n",
       "std               0.992563     0.994216         1.010489   \n",
       "min              29.532429     8.508152        33.913847   \n",
       "25%              32.341822    11.388153        36.349257   \n",
       "50%              33.082008    11.983231        37.069367   \n",
       "75%              33.711985    12.753850        37.716432   \n",
       "max              36.139662    15.126994        40.005182   \n",
       "\n",
       "       Length of Membership  Yearly Amount Spent  \n",
       "count            500.000000           500.000000  \n",
       "mean               3.533462           499.314038  \n",
       "std                0.999278            79.314782  \n",
       "min                0.269901           256.670582  \n",
       "25%                2.930450           445.038277  \n",
       "50%                3.533975           498.887875  \n",
       "75%                4.126502           549.313828  \n",
       "max                6.922689           765.518462  "
      ]
     },
     "execution_count": 11,
     "metadata": {},
     "output_type": "execute_result"
    }
   ],
   "source": [
    "df.describe()"
   ]
  },
  {
   "cell_type": "markdown",
   "id": "3354b4e9-bd78-41d6-be86-8c63d5eba46f",
   "metadata": {},
   "source": [
    "# 2. Initial A/B Test Experiment"
   ]
  },
  {
   "cell_type": "code",
   "execution_count": 22,
   "id": "bad33a51-dcb3-4e2f-b630-b3c81e0ee2bf",
   "metadata": {},
   "outputs": [],
   "source": [
    "# Simulate random assignment: 250 to control, 250 to treatment\n",
    "np.random.seed(42)\n",
    "df['group'] = np.random.choice(['control', 'treatment'], size=len(df), replace=True)"
   ]
  },
  {
   "cell_type": "code",
   "execution_count": 24,
   "id": "70c5d0cd-52d3-4dc6-b4f2-c21078f39444",
   "metadata": {},
   "outputs": [],
   "source": [
    "# Simulate a 10% lift in revenue for the treatment group\n",
    "df['adjusted_revenue'] = df['Yearly Amount Spent']\n",
    "df.loc[df['group'] == 'treatment', 'adjusted_revenue'] *= 1.10"
   ]
  },
  {
   "cell_type": "code",
   "execution_count": 26,
   "id": "ae83fc56-bbf8-479e-998b-a0971dbb13a6",
   "metadata": {},
   "outputs": [],
   "source": [
    "# Separate groups\n",
    "control = df[df['group'] == 'control']['adjusted_revenue']\n",
    "treatment = df[df['group'] == 'treatment']['adjusted_revenue']"
   ]
  },
  {
   "cell_type": "code",
   "execution_count": 28,
   "id": "6c3c7e45-a0f1-49ba-bd15-fed543ed2cc3",
   "metadata": {},
   "outputs": [],
   "source": [
    "# Perform a two-sample t-test\n",
    "t_stat, p_val = stats.ttest_ind(treatment, control)"
   ]
  },
  {
   "cell_type": "code",
   "execution_count": 34,
   "id": "bedb4f3b-cc9e-498b-836c-2840fe07de3d",
   "metadata": {},
   "outputs": [
    {
     "name": "stdout",
     "output_type": "stream",
     "text": [
      "A/B Test Summary\n",
      "Control Group Mean (Yearly): $506.24\n",
      "Treatment Group Mean (Yearly): $541.98\n",
      "Yearly Revenue Lift: $35.74\n",
      "Monthly Revenue Lift: $2.98\n",
      "T-Statistic: 4.7685\n",
      "P-Value: 0.0\n"
     ]
    }
   ],
   "source": [
    "# Calculate group means\n",
    "control_mean = control.mean()\n",
    "treatment_mean = treatment.mean()\n",
    "\n",
    "# Calculate absolute yearly difference\n",
    "yearly_diff = treatment_mean - control_mean\n",
    "\n",
    "# Convert to monthly difference\n",
    "monthly_diff = yearly_diff / 12\n",
    "\n",
    "# Print results\n",
    "print(\"A/B Test Summary\")\n",
    "print(f\"Control Group Mean (Yearly): ${control_mean:.2f}\")\n",
    "print(f\"Treatment Group Mean (Yearly): ${treatment_mean:.2f}\")\n",
    "print(f\"Yearly Revenue Lift: ${yearly_diff:.2f}\")\n",
    "print(f\"Monthly Revenue Lift: ${monthly_diff:.2f}\")\n",
    "print(\"T-Statistic:\", round(t_stat, 4))\n",
    "print(\"P-Value:\", round(p_val, 4))"
   ]
  },
  {
   "cell_type": "code",
   "execution_count": 36,
   "id": "b9484ad0-01b7-40f1-b8ed-a961564ed206",
   "metadata": {},
   "outputs": [
    {
     "name": "stdout",
     "output_type": "stream",
     "text": [
      "Statistical Power Analysis\n",
      "Effect Size (Cohen's d): 0.4278\n",
      "Sample Size per Group: 244\n",
      "Achieved Power: 0.997\n"
     ]
    }
   ],
   "source": [
    "from statsmodels.stats.power import TTestIndPower\n",
    "\n",
    "# Initialize power analysis object\n",
    "analysis = TTestIndPower()\n",
    "\n",
    "# Parameters for power calculation\n",
    "effect_size = (treatment.mean() - control.mean()) / np.sqrt(\n",
    "    (np.var(treatment, ddof=1) + np.var(control, ddof=1)) / 2\n",
    ")\n",
    "alpha = 0.05\n",
    "n_per_group = min(len(control), len(treatment)) \n",
    "\n",
    "# Calculate power\n",
    "power = analysis.power(effect_size=effect_size, nobs1=n_per_group, alpha=alpha, ratio=1.0)\n",
    "\n",
    "# Display results\n",
    "print(\"Statistical Power Analysis\")\n",
    "print(f\"Effect Size (Cohen's d): {effect_size:.4f}\")\n",
    "print(f\"Sample Size per Group: {n_per_group}\")\n",
    "print(f\"Achieved Power: {power:.3f}\")"
   ]
  },
  {
   "cell_type": "code",
   "execution_count": 38,
   "id": "1ad43b7e-65c4-4597-b6ff-3775d8f8ec29",
   "metadata": {},
   "outputs": [
    {
     "data": {
      "image/png": "[encoded data removed]",
      "text/plain": [
       "<Figure size 1000x600 with 1 Axes>"
      ]
     },
     "metadata": {},
     "output_type": "display_data"
    }
   ],
   "source": [
    "import matplotlib.pyplot as plt\n",
    "\n",
    "plt.figure(figsize=(10,6))\n",
    "plt.hist(control, bins=20, alpha=0.6, label='Control', color='skyblue')\n",
    "plt.hist(treatment, bins=20, alpha=0.6, label='Treatment', color='orange')\n",
    "\n",
    "# Plot mean lines\n",
    "plt.axvline(control.mean(), color='blue', linestyle='dashed', linewidth=2, label=f'Control Mean: ${control.mean():.2f}')\n",
    "plt.axvline(treatment.mean(), color='red', linestyle='dashed', linewidth=2, label=f'Treatment Mean: ${treatment.mean():.2f}')\n",
    "\n",
    "plt.title(\"Distribution of Yearly Amount Spent: Control vs Treatment\")\n",
    "plt.xlabel(\"Yearly Amount Spent ($)\")\n",
    "plt.ylabel(\"Number of Users\")\n",
    "plt.legend()\n",
    "plt.grid(True)\n",
    "plt.show()"
   ]
  },
  {
   "cell_type": "markdown",
   "id": "5906d8cf-380a-45a2-9a94-551ed9b56d52",
   "metadata": {},
   "source": [
    "**Bootstrapping Visuals**"
   ]
  },
  {
   "cell_type": "code",
   "execution_count": 40,
   "id": "1dbb4d37-28e0-439c-bba9-c06bc5dd9347",
   "metadata": {},
   "outputs": [],
   "source": [
    "# Bootstrap confidence intervals\n",
    "n_iterations = 10000\n",
    "control_bootstrap = [np.mean(np.random.choice(control, size=len(control), replace=True)) for _ in range(n_iterations)]\n",
    "treatment_bootstrap = [np.mean(np.random.choice(treatment, size=len(treatment), replace=True)) for _ in range(n_iterations)]\n",
    "\n",
    "control_ci = np.percentile(control_bootstrap, [2.5, 97.5])\n",
    "treatment_ci = np.percentile(treatment_bootstrap, [2.5, 97.5])"
   ]
  },
  {
   "cell_type": "code",
   "execution_count": 42,
   "id": "47188392-a392-4859-a438-1bb979c66846",
   "metadata": {},
   "outputs": [
    {
     "data": {
      "image/png": "[encoded data removed]",
      "text/plain": [
       "<Figure size 800x600 with 1 Axes>"
      ]
     },
     "metadata": {},
     "output_type": "display_data"
    },
    {
     "name": "stdout",
     "output_type": "stream",
     "text": [
      "Control 95% CI: [496.84672539 515.40247257]\n",
      "Treatment 95% CI: [530.6828358  553.47484628]\n"
     ]
    }
   ],
   "source": [
    "# Plot\n",
    "plt.figure(figsize=(8, 6))\n",
    "plt.bar(['Control', 'Treatment'], [control.mean(), treatment.mean()], \n",
    "        yerr=[[control.mean() - control_ci[0], treatment.mean() - treatment_ci[0]],\n",
    "              [control_ci[1] - control.mean(), treatment_ci[1] - treatment.mean()]],\n",
    "        capsize=10, color=['skyblue', 'orange'], alpha=0.7)\n",
    "\n",
    "plt.ylabel('Yearly Amount Spent ($)')\n",
    "plt.title('Mean Yearly Spend with 95% Confidence Intervals')\n",
    "plt.grid(True, axis='y', linestyle='--', alpha=0.5)\n",
    "plt.ylim(480, 560)\n",
    "plt.show()\n",
    "\n",
    "# Print exact confidence intervals\n",
    "print(f\"Control 95% CI: {control_ci}\")\n",
    "print(f\"Treatment 95% CI: {treatment_ci}\")"
   ]
  },
  {
   "cell_type": "markdown",
   "id": "9616770b-59dd-471b-ba65-1422c484018e",
   "metadata": {},
   "source": [
    "# 3. Validating Check"
   ]
  },
  {
   "cell_type": "markdown",
   "id": "191d64b2-b86e-4205-842f-d217d017e5bf",
   "metadata": {},
   "source": [
    "**Statistical Validation with Balanced Groups**"
   ]
  },
  {
   "cell_type": "code",
   "execution_count": 50,
   "id": "11687af9-8dad-4e5f-b775-5c728c2dd7c7",
   "metadata": {},
   "outputs": [],
   "source": [
    "# Shuffle the dataset and assign exactly 250 to each group\n",
    "df = df.sample(frac=1, random_state=42).reset_index(drop=True)\n",
    "df['group'] = ['control'] * 250 + ['treatment'] * 250"
   ]
  },
  {
   "cell_type": "markdown",
   "id": "b5e2c5e4-2fde-4f53-8398-77b204ab07d0",
   "metadata": {},
   "source": [
    "**3.1. Chi-Square Test for Sample Ratio Mismatch (SRM)**"
   ]
  },
  {
   "cell_type": "code",
   "execution_count": 75,
   "id": "7f28e1e8-3dfa-461b-8d7f-5e46f2ab3f04",
   "metadata": {},
   "outputs": [],
   "source": [
    "from scipy.stats import chi2_contingency\n",
    "\n",
    "# Count the actual (observed) group sizes\n",
    "observed = df['group'].value_counts().sort_index().values  # [control, treatment]\n",
    "expected = [250, 250]  # What we expect in a balanced design"
   ]
  },
  {
   "cell_type": "code",
   "execution_count": 77,
   "id": "dbd1eb47-2960-4b21-8bb6-4cd8e5e05471",
   "metadata": {},
   "outputs": [],
   "source": [
    "# Perform Chi-Square Goodness-of-Fit Test\n",
    "chi2, p_val, dof, expected_values = chi2_contingency([observed, expected])"
   ]
  },
  {
   "cell_type": "code",
   "execution_count": 79,
   "id": "976b3d9c-6e31-42c6-85ff-da8e2f04bcc9",
   "metadata": {},
   "outputs": [
    {
     "name": "stdout",
     "output_type": "stream",
     "text": [
      "Chi-Square Test for Sample Ratio Mismatch:\n",
      "Observed Counts: [250 250]\n",
      "Expected Counts: [250, 250]\n",
      "Chi² Statistic: 0.0000\n",
      "P-Value: 1.0000\n"
     ]
    }
   ],
   "source": [
    "# Print results\n",
    "print(\"Chi-Square Test for Sample Ratio Mismatch:\")\n",
    "print(f\"Observed Counts: {observed}\")\n",
    "print(f\"Expected Counts: {expected}\")\n",
    "print(f\"Chi² Statistic: {chi2:.4f}\")\n",
    "print(f\"P-Value: {p_val:.4f}\")"
   ]
  },
  {
   "cell_type": "code",
   "execution_count": 87,
   "id": "1ea37770-55f4-47aa-a939-f4d937e40171",
   "metadata": {},
   "outputs": [
    {
     "name": "stdout",
     "output_type": "stream",
     "text": [
      "Sample ratio is balanced — no mismatch detected.\n"
     ]
    }
   ],
   "source": [
    "# flag potential imbalance\n",
    "if p_val < 0.05:\n",
    "    print(\"Warning: Significant sample ratio mismatch detected.\")\n",
    "else:\n",
    "    print(\"Sample ratio is balanced — no mismatch detected.\")"
   ]
  },
  {
   "cell_type": "markdown",
   "id": "d1570cc4-898b-466c-8370-8e4fbd8a361f",
   "metadata": {},
   "source": [
    "**3.2. A/A Test Setup**"
   ]
  },
  {
   "cell_type": "code",
   "execution_count": 91,
   "id": "e3b308a8-9265-4e5a-934c-58b09da81781",
   "metadata": {},
   "outputs": [
    {
     "name": "stdout",
     "output_type": "stream",
     "text": [
      "A/A Test Results:\n",
      "T-Statistic: 0.4531\n",
      "P-Value: 0.6507\n",
      "No significant difference — randomization is likely sound.\n"
     ]
    }
   ],
   "source": [
    "from scipy.stats import ttest_ind\n",
    "\n",
    "# Simulate A/A test: assign two random groups without applying any treatment\n",
    "df['aa_group'] = ['group_a'] * 250 + ['group_b'] * 250\n",
    "df = df.sample(frac=1, random_state=123).reset_index(drop=True)\n",
    "\n",
    "# Compare actual yearly revenue between the two randomly assigned A/A groups\n",
    "group_a = df[df['aa_group'] == 'group_a']['Yearly Amount Spent']\n",
    "group_b = df[df['aa_group'] == 'group_b']['Yearly Amount Spent']\n",
    "\n",
    "t_stat, p_val = ttest_ind(group_a, group_b)\n",
    "\n",
    "print(\"A/A Test Results:\")\n",
    "print(f\"T-Statistic: {t_stat:.4f}\")\n",
    "print(f\"P-Value: {p_val:.4f}\")\n",
    "if p_val < 0.05:\n",
    "    print(\"Possible instrumentation or selection bias detected.\")\n",
    "else:\n",
    "    print(\"No significant difference — randomization is likely sound.\")"
   ]
  },
  {
   "cell_type": "markdown",
   "id": "bfbb0574-9e72-4a47-b480-75a5a2c7af6e",
   "metadata": {},
   "source": [
    "**3.3. Instrumentation Effect: Guardrail Metric Check (Length of Membership)**\n",
    "\n",
    "No mid-test changes were made to data logging, cart behavior, or recommendation logic."
   ]
  },
  {
   "cell_type": "code",
   "execution_count": 100,
   "id": "214f56b0-702e-4931-b313-5f3faa4e1970",
   "metadata": {},
   "outputs": [
    {
     "name": "stdout",
     "output_type": "stream",
     "text": [
      "\n",
      "Guardrail Metric Check – Length of Membership:\n",
      "Mean (Control): 3.46\n",
      "Mean (Treatment): 3.61\n",
      "P-Value: 0.0994\n",
      "No significant effect on retention — guardrail preserved.\n"
     ]
    }
   ],
   "source": [
    "# Compare guardrail metric between treatment and control\n",
    "control_guardrail = df[df['group'] == 'control']['Length of Membership']\n",
    "treatment_guardrail = df[df['group'] == 'treatment']['Length of Membership']\n",
    "\n",
    "t_stat, p_val = ttest_ind(treatment_guardrail, control_guardrail)\n",
    "\n",
    "print(\"\\nGuardrail Metric Check – Length of Membership:\")\n",
    "print(f\"Mean (Control): {control_guardrail.mean():.2f}\")\n",
    "print(f\"Mean (Treatment): {treatment_guardrail.mean():.2f}\")\n",
    "print(f\"P-Value: {p_val:.4f}\")\n",
    "if p_val < 0.05:\n",
    "    print(\"Warning: Treatment may affect long-term retention (guardrail breached).\")\n",
    "else:\n",
    "    print(\"No significant effect on retention — guardrail preserved.\")"
   ]
  },
  {
   "cell_type": "markdown",
   "id": "b2337c83-90a0-4f6b-b01b-fd4b55e4bf17",
   "metadata": {},
   "source": [
    "**3.4. Selection Bias Check (Behavioral Proxies)**\n",
    "\n",
    "While we don’t explicitly have a device type column (like \"mobile\" vs. \"desktop\"), we do have strong behavioral proxies:\n",
    "\n",
    "- Time on App → likely reflects **mobile usage.**\n",
    "- Time on Website → likely reflects **desktop/web usage.**"
   ]
  },
  {
   "cell_type": "code",
   "execution_count": 107,
   "id": "357fdcf7-c642-483b-9444-8c5b4cef73d8",
   "metadata": {},
   "outputs": [
    {
     "name": "stdout",
     "output_type": "stream",
     "text": [
      "Selection Bias Proxy Check:\n",
      "Time on App – P-Value: 0.5498\n",
      "No significant bias in mobile usage between groups.\n",
      "Time on Website – P-Value: 0.3334\n",
      "No significant bias in website usage between groups.\n"
     ]
    }
   ],
   "source": [
    "# Time on App (proxy for mobile engagement)\n",
    "control_app = df[df['group'] == 'control']['Time on App']\n",
    "treatment_app = df[df['group'] == 'treatment']['Time on App']\n",
    "t_stat_app, p_val_app = ttest_ind(treatment_app, control_app)\n",
    "\n",
    "# Time on Website (proxy for desktop engagement)\n",
    "control_web = df[df['group'] == 'control']['Time on Website']\n",
    "treatment_web = df[df['group'] == 'treatment']['Time on Website']\n",
    "t_stat_web, p_val_web = ttest_ind(treatment_web, control_web)\n",
    "\n",
    "# Print results\n",
    "print(\"Selection Bias Proxy Check:\")\n",
    "print(f\"Time on App – P-Value: {p_val_app:.4f}\")\n",
    "if p_val_app < 0.05:\n",
    "    print(\"Possible imbalance in mobile user behavior.\")\n",
    "else:\n",
    "    print(\"No significant bias in mobile usage between groups.\")\n",
    "\n",
    "print(f\"Time on Website – P-Value: {p_val_web:.4f}\")\n",
    "if p_val_web < 0.05:\n",
    "    print(\"Possible imbalance in desktop user behavior.\")\n",
    "else:\n",
    "    print(\"No significant bias in website usage between groups.\")"
   ]
  },
  {
   "cell_type": "markdown",
   "id": "eec362d7-1876-47ee-baca-4f9901cfb51c",
   "metadata": {},
   "source": [
    "**3.5. Novelty Effects**\n",
    "\n",
    "Novelty Effect: A short-term boost in conversions may result from users noticing a cleaner layout. We recommend monitoring for sustained improvement before a full-scale rollout."
   ]
  },
  {
   "cell_type": "markdown",
   "id": "13d4b58a-fb4c-447c-878d-a6aa1400e04e",
   "metadata": {},
   "source": [
    "# 4. Re-Run Experiment"
   ]
  },
  {
   "cell_type": "code",
   "execution_count": 54,
   "id": "e0a3b45b-5e17-4ebe-8308-75b23fd17609",
   "metadata": {},
   "outputs": [],
   "source": [
    "# Apply simulated 10% lift to treatment group\n",
    "df['adjusted_revenue'] = df['Yearly Amount Spent']\n",
    "df.loc[df['group'] == 'treatment', 'adjusted_revenue'] *= 1.10"
   ]
  },
  {
   "cell_type": "code",
   "execution_count": 56,
   "id": "0af63351-eff3-46a5-9a95-06c3ae5696b5",
   "metadata": {},
   "outputs": [],
   "source": [
    "# Separate groups\n",
    "control = df[df['group'] == 'control']['adjusted_revenue']\n",
    "treatment = df[df['group'] == 'treatment']['adjusted_revenue']"
   ]
  },
  {
   "cell_type": "code",
   "execution_count": 58,
   "id": "3f59e508-2a0c-4a81-a2ce-93836e0e8794",
   "metadata": {},
   "outputs": [],
   "source": [
    "# Perform a two-sample t-test\n",
    "t_stat, p_val = stats.ttest_ind(treatment, control)"
   ]
  },
  {
   "cell_type": "code",
   "execution_count": 60,
   "id": "110847af-63f8-4947-abd9-08f7c7656ece",
   "metadata": {},
   "outputs": [],
   "source": [
    "# Compute group means and differences\n",
    "control_mean = control.mean()\n",
    "treatment_mean = treatment.mean()\n",
    "yearly_lift = treatment_mean - control_mean\n",
    "monthly_lift = yearly_lift / 12"
   ]
  },
  {
   "cell_type": "code",
   "execution_count": 62,
   "id": "84452c05-057f-4b41-96a1-2a11a4dafacc",
   "metadata": {},
   "outputs": [],
   "source": [
    "# Statistical Power Calculation\n",
    "effect_size = (treatment_mean - control_mean) / np.sqrt(\n",
    "    (np.var(treatment, ddof=1) + np.var(control, ddof=1)) / 2\n",
    ")\n",
    "power_analysis = TTestIndPower()\n",
    "power = power_analysis.power(effect_size=effect_size, nobs1=250, alpha=0.05, ratio=1.0)"
   ]
  },
  {
   "cell_type": "code",
   "execution_count": 64,
   "id": "e1e8d82a-84af-426b-a38e-bc61fc25e14c",
   "metadata": {},
   "outputs": [
    {
     "name": "stdout",
     "output_type": "stream",
     "text": [
      "Balanced A/B Test Results (250 per group)\n",
      "Control Mean (Yearly): $494.79\n",
      "Treatment Mean (Yearly): $554.22\n",
      "Yearly Lift: $59.43\n",
      "Monthly Lift: $4.95\n",
      "T-Statistic: 7.9577\n",
      "P-Value: 0.0000\n",
      "Effect Size (Cohen's d): 0.7118\n",
      "Statistical Power: 1.000\n"
     ]
    }
   ],
   "source": [
    "# Output the results\n",
    "print(\"Balanced A/B Test Results (250 per group)\")\n",
    "print(f\"Control Mean (Yearly): ${control_mean:.2f}\")\n",
    "print(f\"Treatment Mean (Yearly): ${treatment_mean:.2f}\")\n",
    "print(f\"Yearly Lift: ${yearly_lift:.2f}\")\n",
    "print(f\"Monthly Lift: ${monthly_lift:.2f}\")\n",
    "print(f\"T-Statistic: {t_stat:.4f}\")\n",
    "print(f\"P-Value: {p_val:.4f}\")\n",
    "print(f\"Effect Size (Cohen's d): {effect_size:.4f}\")\n",
    "print(f\"Statistical Power: {power:.3f}\")"
   ]
  },
  {
   "cell_type": "code",
   "execution_count": 66,
   "id": "ecb534ef-f8e5-4ea7-baf4-e8aaa8f525b1",
   "metadata": {},
   "outputs": [
    {
     "data": {
      "image/png": "[encoded data removed]",
      "text/plain": [
       "<Figure size 800x600 with 1 Axes>"
      ]
     },
     "metadata": {},
     "output_type": "display_data"
    }
   ],
   "source": [
    "# Visual Confirmation\n",
    "plt.figure(figsize=(8, 6))\n",
    "plt.hist(control, bins=20, alpha=0.6, label='Control', color='skyblue')\n",
    "plt.hist(treatment, bins=20, alpha=0.6, label='Treatment', color='orange')\n",
    "plt.axvline(control_mean, color='blue', linestyle='--', label=f'Control Mean: ${control_mean:.2f}')\n",
    "plt.axvline(treatment_mean, color='red', linestyle='--', label=f'Treatment Mean: ${treatment_mean:.2f}')\n",
    "plt.title(\"Balanced A/B Test – Revenue Distribution\")\n",
    "plt.xlabel(\"Yearly Amount Spent ($)\")\n",
    "plt.ylabel(\"Number of Users\")\n",
    "plt.legend()\n",
    "plt.grid(True, axis='y', linestyle='--', alpha=0.5)\n",
    "plt.show()"
   ]
  },
  {
   "cell_type": "markdown",
   "id": "984567bf-6c00-4cda-aad4-aecced339853",
   "metadata": {},
   "source": [
    "# 5. Interpret Results\n",
    "\n",
    "At a significance level of **α = 0.05**, the p-value is well below the threshold, indicating **strong statistical significance**. We confidently **reject the null hypothesis (H₀)** and conclude that the average yearly revenue per user between the control and treatment groups is **meaningfully different**.\n",
    "\n",
    "The treatment group, exposed to a simplified checkout experience **without the “Similar Items” carousel**, spent **~$59 more per year** (or **~$4.95/month**), reflecting a **12% increase** over the control.\n",
    "\n",
    "The original **Minimum Detectable Effect (MDE)** was set at a 10% lift, this test **exceeded both the statistical and practical significance thresholds**, suggesting the experiment had a **positive and meaningful impact on conversion behavior**."
   ]
  },
  {
   "cell_type": "markdown",
   "id": "cff77b83-ea84-43af-b6fd-d8c2dde0f2fe",
   "metadata": {},
   "source": [
    "# 6. Launch Desicion\n",
    "\n",
    "**Yes, we recommend launching the treatment version** of the checkout process (without the \"Similar Items\" carousel) on a broader scale. The A/B test results show a statistically significant increase in revenue, with the treatment group generating an average lift of **$4.95/month per user**—well above the **5% practical threshold** and even exceeding the **10% target**. This improvement stems from a streamlined checkout experience that positively influenced user behavior without negatively impacting key guardrail metrics like **Length of Membership**, indicating the change is both **effective and safe to scale**.\n",
    "\n",
    "### Next Steps:\n",
    "\n",
    "- **Monitor Real-World Impact**: Since the test was successful in a simulated environment, closely monitor the real-world data as you scale the experiment.\n",
    "- **Optimization**: Even though this test was successful, **further optimization** could be applied to refine the user experience, particularly in reducing **potential overwhelm** due to additional recommendations.\n",
    "\n",
    "**Conclusion**: The experiment has **demonstrated strong positive results**, and launching the treatment version could provide a **measurable increase** in conversion rates and revenue with minimal risk."
   ]
  },
  {
   "cell_type": "markdown",
   "id": "aa347d6c-f22a-463b-bf39-46e59562daea",
   "metadata": {},
   "source": [
    "# 7. Customer Lifetime Value (CLV) - Before vs After A/B Test\n",
    "\n",
    "**Treatment CLV group:** Based on post-launch monthly revenue and same average membership length"
   ]
  },
  {
   "cell_type": "code",
   "execution_count": 184,
   "id": "8245d819-d1ca-4c23-8f90-1ceaf7120f04",
   "metadata": {},
   "outputs": [
    {
     "name": "stdout",
     "output_type": "stream",
     "text": [
      "Original Customer Lifetime Value (Pre-A/B Test):\n",
      "Average Yearly Spend (Pre-A/B Test): $499.31\n",
      "Monthly CLV: $147.03\n",
      "\n",
      "Post-A/B Test CLV Projection (Based on Adjusted Revenue):\n",
      "Average Yearly Spend (Post-Launch): $554.22\n",
      "Monthly CLV: $163.19\n"
     ]
    }
   ],
   "source": [
    "# Using the adjusted revenue for post-launch spend\n",
    "avg_yearly_spend_post = df[df['group'] == 'treatment']['adjusted_revenue'].mean()\n",
    "avg_monthly_spend_post = avg_yearly_spend_post / 12\n",
    "\n",
    "# Pre-launch values\n",
    "avg_yearly_spend_pre = df['Yearly Amount Spent'].mean()\n",
    "avg_membership_months = df['Length of Membership'].mean()\n",
    "avg_monthly_spend_pre = avg_yearly_spend_pre / 12\n",
    "\n",
    "# CLV Calculations\n",
    "clv_pre = avg_monthly_spend_pre * avg_membership_months\n",
    "clv_post = avg_monthly_spend_post * avg_membership_months\n",
    "\n",
    "# Print formatted results\n",
    "print(\"Original Customer Lifetime Value (Pre-A/B Test):\")\n",
    "print(f\"Average Yearly Spend (Pre-A/B Test): ${avg_yearly_spend_pre:.2f}\")\n",
    "print(f\"Monthly CLV: ${clv_pre:.2f}\")\n",
    "\n",
    "print(\"\\nPost-A/B Test CLV Projection (Based on Adjusted Revenue):\")\n",
    "print(f\"Average Yearly Spend (Post-Launch): ${avg_yearly_spend_post:.2f}\")\n",
    "print(f\"Monthly CLV: ${clv_post:.2f}\")"
   ]
  },
  {
   "cell_type": "markdown",
   "id": "848d5bd7-71cf-4ab5-8df7-fa4823042553",
   "metadata": {},
   "source": [
    "**Plot CLV in bar chart**"
   ]
  },
  {
   "cell_type": "code",
   "execution_count": 186,
   "id": "17aafdbe-d649-485a-8a22-5f5fc3cdaf38",
   "metadata": {},
   "outputs": [
    {
     "data": {
      "image/png": "[encoded data removed]",
      "text/plain": [
       "<Figure size 600x400 with 1 Axes>"
      ]
     },
     "metadata": {},
     "output_type": "display_data"
    }
   ],
   "source": [
    "import matplotlib.pyplot as plt\n",
    "\n",
    "# Updated CLV Values Based on Adjusted Revenue\n",
    "clv_pre = 147.03   # Original CLV (pre-A/B test)\n",
    "clv_post = 163.19  # Post-launch CLV (after applying 10% uplift to treatment)\n",
    "\n",
    "# Labels and values\n",
    "labels = ['Pre-Launch CLV', 'Post-Launch CLV']\n",
    "values = [clv_pre, clv_post]\n",
    "colors = ['#90CAF9', '#66BB6A'] \n",
    "\n",
    "# Create bar chart\n",
    "plt.figure(figsize=(6, 4))\n",
    "bars = plt.bar(labels, values, color=colors)\n",
    "\n",
    "# Add value labels above bars\n",
    "for bar in bars:\n",
    "    yval = bar.get_height()\n",
    "    plt.text(bar.get_x() + bar.get_width() / 2, yval + 1.5, f\"${yval:.2f}\", \n",
    "             ha='center', va='bottom', fontsize=10, fontweight='bold')\n",
    "\n",
    "# Styling\n",
    "plt.title('Customer Lifetime Value (CLV)\\nBefore vs. After A/B Test', fontsize=14)\n",
    "plt.ylabel('CLV ($)', fontsize=12)\n",
    "plt.ylim(0, max(values) + 20)\n",
    "plt.grid(axis='y', linestyle='--', alpha=0.4)\n",
    "plt.tight_layout()\n",
    "plt.show()"
   ]
  },
  {
   "cell_type": "markdown",
   "id": "56cf82d5-0864-40ef-b4b8-82eb89fb6d3c",
   "metadata": {},
   "source": [
    "**Overall CLV Impact Summary**\n",
    "\n",
    "Following the A/B test, the Projected Customer Lifetime Value (CLV) increased from **147.03 to 163.19 usd,** reflecting a ~16usd lift over the average customer lifespan of 3.5 months. This improvement directly stems from a simplified checkout experience that increased average yearly revenue per user from 499.31 to $554.22 usd, consistent with the 10% lift observed in treatment.\n",
    "\n",
    "This ~11% increase in CLV is not just statistically and practically significant, it also aligns with core business goals: **improving monetization per user without additional acquisition costs or extended retention.** For a platform like StyleSync, which operates in a high-intent, short-lifecycle retail environment, even modest UX optimizations can lead to substantial revenue gains. The CLV uplift confirms that the treatment not only converts better but also extracts more value from each user, making a compelling case for full rollout."
   ]
  }
 ],
 "metadata": {
  "kernelspec": {
   "display_name": "Python [conda env:base] *",
   "language": "python",
   "name": "conda-base-py"
  },
  "language_info": {
   "codemirror_mode": {
    "name": "ipython",
    "version": 3
   },
   "file_extension": ".py",
   "mimetype": "text/x-python",
   "name": "python",
   "nbconvert_exporter": "python",
   "pygments_lexer": "ipython3",
   "version": "3.12.7"
  }
 },
 "nbformat": 4,
 "nbformat_minor": 5
}
